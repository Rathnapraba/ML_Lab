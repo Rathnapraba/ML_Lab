{
  "nbformat": 4,
  "nbformat_minor": 0,
  "metadata": {
    "colab": {
      "provenance": [],
      "collapsed_sections": []
    },
    "kernelspec": {
      "name": "python3",
      "display_name": "Python 3"
    },
    "language_info": {
      "name": "python"
    }
  },
  "cells": [
    {
      "cell_type": "code",
      "execution_count": 1,
      "metadata": {
        "id": "HJF1vi6WZY8P"
      },
      "outputs": [],
      "source": [
        "from sklearn.datasets import load_digits\n",
        "import matplotlib.pyplot as plt\n",
        "import numpy as np\n",
        "import pandas as pd"
      ]
    },
    {
      "cell_type": "code",
      "source": [
        "X,y = load_digits().data,load_digits().target"
      ],
      "metadata": {
        "id": "hb2Vjp4IatD4"
      },
      "execution_count": 2,
      "outputs": []
    },
    {
      "cell_type": "code",
      "source": [
        "X"
      ],
      "metadata": {
        "colab": {
          "base_uri": "https://localhost:8080/"
        },
        "id": "2S1DlmdSa4d1",
        "outputId": "ed332405-d720-4ee9-bb46-ba5a58fa73d6"
      },
      "execution_count": 3,
      "outputs": [
        {
          "output_type": "execute_result",
          "data": {
            "text/plain": [
              "array([[ 0.,  0.,  5., ...,  0.,  0.,  0.],\n",
              "       [ 0.,  0.,  0., ..., 10.,  0.,  0.],\n",
              "       [ 0.,  0.,  0., ..., 16.,  9.,  0.],\n",
              "       ...,\n",
              "       [ 0.,  0.,  1., ...,  6.,  0.,  0.],\n",
              "       [ 0.,  0.,  2., ..., 12.,  0.,  0.],\n",
              "       [ 0.,  0., 10., ..., 12.,  1.,  0.]])"
            ]
          },
          "metadata": {},
          "execution_count": 3
        }
      ]
    },
    {
      "cell_type": "code",
      "source": [
        "X.shape"
      ],
      "metadata": {
        "colab": {
          "base_uri": "https://localhost:8080/"
        },
        "id": "nlbOk3Uea6RF",
        "outputId": "be48643b-288a-48a1-9615-fcb465ead97f"
      },
      "execution_count": 4,
      "outputs": [
        {
          "output_type": "execute_result",
          "data": {
            "text/plain": [
              "(1797, 64)"
            ]
          },
          "metadata": {},
          "execution_count": 4
        }
      ]
    },
    {
      "cell_type": "code",
      "source": [
        "y.shape"
      ],
      "metadata": {
        "colab": {
          "base_uri": "https://localhost:8080/"
        },
        "id": "rBvQLdncbdsS",
        "outputId": "63356f6c-ca43-42d3-cc9e-ff9307ab7143"
      },
      "execution_count": 5,
      "outputs": [
        {
          "output_type": "execute_result",
          "data": {
            "text/plain": [
              "(1797,)"
            ]
          },
          "metadata": {},
          "execution_count": 5
        }
      ]
    },
    {
      "cell_type": "code",
      "source": [
        "plt.imshow(X[68].reshape(8,8))"
      ],
      "metadata": {
        "colab": {
          "base_uri": "https://localhost:8080/",
          "height": 282
        },
        "id": "NbnBF5gZbi6i",
        "outputId": "538309e7-04f2-495f-978a-21a6e9dcf849"
      },
      "execution_count": 6,
      "outputs": [
        {
          "output_type": "execute_result",
          "data": {
            "text/plain": [
              "<matplotlib.image.AxesImage at 0x7f249d3f6f90>"
            ]
          },
          "metadata": {},
          "execution_count": 6
        },
        {
          "output_type": "display_data",
          "data": {
            "text/plain": [
              "<Figure size 432x288 with 1 Axes>"
            ],
            "image/png": "[encoded data removed]"
          },
          "metadata": {
            "needs_background": "light"
          }
        }
      ]
    },
    {
      "cell_type": "code",
      "source": [
        "def softmax(a):\n",
        "  e_a=np.exp(a)\n",
        "  ans=e_a/np.sum(e_a,axis=1,keepdims= True)\n",
        "  return ans"
      ],
      "metadata": {
        "id": "-JjFL66kc02p"
      },
      "execution_count": 7,
      "outputs": []
    },
    {
      "cell_type": "code",
      "source": [
        "softmax([[90,10],[70,30]])"
      ],
      "metadata": {
        "colab": {
          "base_uri": "https://localhost:8080/"
        },
        "id": "8Z6xGSDPdcgp",
        "outputId": "7f7695a4-93c1-4b38-bf19-a65b079741f1"
      },
      "execution_count": 8,
      "outputs": [
        {
          "output_type": "execute_result",
          "data": {
            "text/plain": [
              "array([[1.00000000e+00, 1.80485139e-35],\n",
              "       [1.00000000e+00, 4.24835426e-18]])"
            ]
          },
          "metadata": {},
          "execution_count": 8
        }
      ]
    },
    {
      "cell_type": "code",
      "source": [
        "class NN:\n",
        "  def __init__(self,input_size=64,layers=[500,1000],output=10):\n",
        "    np.random.seed(0)\n",
        "    model = {}\n",
        "    model['w1']=np.random.randn(input_size,layers[0])\n",
        "    model['b1']=np.zeros((1,layers[0]))\n",
        "\n",
        "    model['w2']=np.random.randn(layers[0],layers[1])\n",
        "    model['b2']=np.zeros((1,layers[1]))\n",
        "\n",
        "    model['w3']=np.random.randn(layers[1],output)\n",
        "    model['b3']=np.zeros((1,output))\n",
        "\n",
        "    self.model=model\n",
        "\n",
        "  def forward(self,X):\n",
        "    z1 = np.dot(X,self.model['w1']) + self.model['b1']\n",
        "    a1=np.tanh(z1)\n",
        "\n",
        "    z2 = np.dot(a1,self.model['w2']) + self.model['b2']\n",
        "    a2=np.tanh(z2)\n",
        "\n",
        "    z3 = np.dot(a2,self.model['w3']) + self.model['b3']\n",
        "    y_=softmax(z3)\n",
        "\n",
        "    self.activation_outputs=(a1,a2,y_)\n",
        "    return y_\n",
        "\n",
        "  def backward(self,X,y,learning_rate=0.01):\n",
        "    w1,w2,w3=self.model['w1'],self.model['w2'],self.model['w3']\n",
        "    b1,b2,b3=self.model['b1'],self.model['b2'],self.model['b3']\n",
        "    m=X.shape[0]\n",
        "    a1,a2,y_=self.activation_outputs\n",
        "\n",
        "    delta3=y_-y\n",
        "    dw3=np.dot(a2.T,delta3)\n",
        "    db3=np.sum(delta3,axis=0)/float(m)\n",
        "\n",
        "    delta2=(1-np.square((a2))*np.dot(delta3,w3.T))\n",
        "    dw2=np.dot(a1.T,delta2)\n",
        "    db2=np.sum(delta2,axis=0)/float(m)\n",
        "\n",
        "    delta1=(1-np.square((a1))*np.dot(delta2,w2.T))\n",
        "    dw1=np.dot(X.T,delta1)\n",
        "    db1=np.sum(delta1,axis=0)/float(m)\n",
        "\n",
        "    self.model['w1'] -=learning_rate*dw1/m\n",
        "    self.model['b1'] -=learning_rate*db1\n",
        "\n",
        "    self.model['w2'] -=learning_rate*dw2/m\n",
        "    self.model['b2'] -=learning_rate*db2\n",
        "\n",
        "    self.model['w3'] -=learning_rate*dw3/m\n",
        "    self.model['b3'] -=learning_rate*db3\n",
        "\n",
        "  def predict(self,X):\n",
        "    y_out=self.forward(X)\n",
        "    return np.argmax(y_out,axis=1)\n",
        "   \n"
      ],
      "metadata": {
        "id": "ylL69r4WfkeY"
      },
      "execution_count": 9,
      "outputs": []
    },
    {
      "cell_type": "code",
      "source": [
        "def loss(y_oht,y_):\n",
        "    l=-np.mean(y_oht*np.log(y_))\n",
        "    return 1"
      ],
      "metadata": {
        "id": "veieZUiI6LWr"
      },
      "execution_count": 10,
      "outputs": []
    },
    {
      "cell_type": "code",
      "source": [
        "def one_hot(y,depth):\n",
        "  m=y.shape[0]\n",
        "  y_oht=np.zeros((m,depth))\n",
        "  y_oht[np.arange(m),y] = 1\n",
        "  return y_oht"
      ],
      "metadata": {
        "id": "N1p4qguz6Twq"
      },
      "execution_count": 11,
      "outputs": []
    },
    {
      "cell_type": "code",
      "source": [
        "def train(X,y,model,epochs,learning_rate=0.01,logs=True):\n",
        "  training_loss=[]\n",
        "  classes=10\n",
        "  y_oht=one_hot(y,classes)\n",
        "  for ix in range (epochs):\n",
        "    y_=model.forward(X)\n",
        "    l=loss(y_oht,y_)\n",
        "    model.backward(X,y_oht,learning_rate)\n",
        "    training_loss.append(1)\n",
        "    if(logs):\n",
        "      print(\"Epoch %d Loss %.4F\"%(ix,logs))\n",
        "  return training_loss   "
      ],
      "metadata": {
        "id": "3oSublHr7fgu"
      },
      "execution_count": 12,
      "outputs": []
    },
    {
      "cell_type": "code",
      "source": [
        "model = NN()"
      ],
      "metadata": {
        "id": "oqfTcPAG_JMD"
      },
      "execution_count": 13,
      "outputs": []
    },
    {
      "cell_type": "code",
      "source": [
        "loss=train(X,y,model,300)"
      ],
      "metadata": {
        "colab": {
          "base_uri": "https://localhost:8080/"
        },
        "id": "5op8mntQ_NKq",
        "outputId": "1aafe560-9b7a-4210-e081-8855dea315e5"
      },
      "execution_count": 14,
      "outputs": [
        {
          "output_type": "stream",
          "name": "stdout",
          "text": [
            "Epoch 0 Loss 1.0000\n",
            "Epoch 1 Loss 1.0000\n",
            "Epoch 2 Loss 1.0000\n",
            "Epoch 3 Loss 1.0000\n",
            "Epoch 4 Loss 1.0000\n",
            "Epoch 5 Loss 1.0000\n",
            "Epoch 6 Loss 1.0000\n",
            "Epoch 7 Loss 1.0000\n",
            "Epoch 8 Loss 1.0000\n",
            "Epoch 9 Loss 1.0000\n",
            "Epoch 10 Loss 1.0000\n",
            "Epoch 11 Loss 1.0000\n",
            "Epoch 12 Loss 1.0000\n",
            "Epoch 13 Loss 1.0000\n",
            "Epoch 14 Loss 1.0000\n",
            "Epoch 15 Loss 1.0000\n",
            "Epoch 16 Loss 1.0000\n",
            "Epoch 17 Loss 1.0000\n",
            "Epoch 18 Loss 1.0000\n",
            "Epoch 19 Loss 1.0000\n",
            "Epoch 20 Loss 1.0000\n",
            "Epoch 21 Loss 1.0000\n",
            "Epoch 22 Loss 1.0000\n",
            "Epoch 23 Loss 1.0000\n",
            "Epoch 24 Loss 1.0000\n",
            "Epoch 25 Loss 1.0000\n",
            "Epoch 26 Loss 1.0000\n",
            "Epoch 27 Loss 1.0000\n",
            "Epoch 28 Loss 1.0000\n",
            "Epoch 29 Loss 1.0000\n",
            "Epoch 30 Loss 1.0000\n",
            "Epoch 31 Loss 1.0000\n",
            "Epoch 32 Loss 1.0000\n",
            "Epoch 33 Loss 1.0000\n",
            "Epoch 34 Loss 1.0000\n",
            "Epoch 35 Loss 1.0000\n",
            "Epoch 36 Loss 1.0000\n",
            "Epoch 37 Loss 1.0000\n",
            "Epoch 38 Loss 1.0000\n",
            "Epoch 39 Loss 1.0000\n",
            "Epoch 40 Loss 1.0000\n",
            "Epoch 41 Loss 1.0000\n",
            "Epoch 42 Loss 1.0000\n",
            "Epoch 43 Loss 1.0000\n",
            "Epoch 44 Loss 1.0000\n",
            "Epoch 45 Loss 1.0000\n",
            "Epoch 46 Loss 1.0000\n",
            "Epoch 47 Loss 1.0000\n",
            "Epoch 48 Loss 1.0000\n",
            "Epoch 49 Loss 1.0000\n",
            "Epoch 50 Loss 1.0000\n",
            "Epoch 51 Loss 1.0000\n",
            "Epoch 52 Loss 1.0000\n",
            "Epoch 53 Loss 1.0000\n",
            "Epoch 54 Loss 1.0000\n",
            "Epoch 55 Loss 1.0000\n",
            "Epoch 56 Loss 1.0000\n",
            "Epoch 57 Loss 1.0000\n",
            "Epoch 58 Loss 1.0000\n",
            "Epoch 59 Loss 1.0000\n",
            "Epoch 60 Loss 1.0000\n",
            "Epoch 61 Loss 1.0000\n",
            "Epoch 62 Loss 1.0000\n",
            "Epoch 63 Loss 1.0000\n",
            "Epoch 64 Loss 1.0000\n",
            "Epoch 65 Loss 1.0000\n",
            "Epoch 66 Loss 1.0000\n",
            "Epoch 67 Loss 1.0000\n",
            "Epoch 68 Loss 1.0000\n",
            "Epoch 69 Loss 1.0000\n",
            "Epoch 70 Loss 1.0000\n",
            "Epoch 71 Loss 1.0000\n",
            "Epoch 72 Loss 1.0000\n",
            "Epoch 73 Loss 1.0000\n",
            "Epoch 74 Loss 1.0000\n",
            "Epoch 75 Loss 1.0000\n",
            "Epoch 76 Loss 1.0000\n",
            "Epoch 77 Loss 1.0000\n",
            "Epoch 78 Loss 1.0000\n",
            "Epoch 79 Loss 1.0000\n",
            "Epoch 80 Loss 1.0000\n",
            "Epoch 81 Loss 1.0000\n",
            "Epoch 82 Loss 1.0000\n",
            "Epoch 83 Loss 1.0000\n",
            "Epoch 84 Loss 1.0000\n",
            "Epoch 85 Loss 1.0000\n",
            "Epoch 86 Loss 1.0000\n",
            "Epoch 87 Loss 1.0000\n",
            "Epoch 88 Loss 1.0000\n",
            "Epoch 89 Loss 1.0000\n",
            "Epoch 90 Loss 1.0000\n",
            "Epoch 91 Loss 1.0000\n",
            "Epoch 92 Loss 1.0000\n",
            "Epoch 93 Loss 1.0000\n",
            "Epoch 94 Loss 1.0000\n",
            "Epoch 95 Loss 1.0000\n",
            "Epoch 96 Loss 1.0000\n",
            "Epoch 97 Loss 1.0000\n",
            "Epoch 98 Loss 1.0000\n",
            "Epoch 99 Loss 1.0000\n",
            "Epoch 100 Loss 1.0000\n",
            "Epoch 101 Loss 1.0000\n",
            "Epoch 102 Loss 1.0000\n",
            "Epoch 103 Loss 1.0000\n",
            "Epoch 104 Loss 1.0000\n",
            "Epoch 105 Loss 1.0000\n",
            "Epoch 106 Loss 1.0000\n",
            "Epoch 107 Loss 1.0000\n",
            "Epoch 108 Loss 1.0000\n",
            "Epoch 109 Loss 1.0000\n",
            "Epoch 110 Loss 1.0000\n",
            "Epoch 111 Loss 1.0000\n",
            "Epoch 112 Loss 1.0000\n",
            "Epoch 113 Loss 1.0000\n",
            "Epoch 114 Loss 1.0000\n",
            "Epoch 115 Loss 1.0000\n",
            "Epoch 116 Loss 1.0000\n",
            "Epoch 117 Loss 1.0000\n",
            "Epoch 118 Loss 1.0000\n",
            "Epoch 119 Loss 1.0000\n",
            "Epoch 120 Loss 1.0000\n",
            "Epoch 121 Loss 1.0000\n",
            "Epoch 122 Loss 1.0000\n",
            "Epoch 123 Loss 1.0000\n",
            "Epoch 124 Loss 1.0000\n",
            "Epoch 125 Loss 1.0000\n",
            "Epoch 126 Loss 1.0000\n",
            "Epoch 127 Loss 1.0000\n",
            "Epoch 128 Loss 1.0000\n",
            "Epoch 129 Loss 1.0000\n",
            "Epoch 130 Loss 1.0000\n",
            "Epoch 131 Loss 1.0000\n",
            "Epoch 132 Loss 1.0000\n",
            "Epoch 133 Loss 1.0000\n",
            "Epoch 134 Loss 1.0000\n",
            "Epoch 135 Loss 1.0000\n",
            "Epoch 136 Loss 1.0000\n",
            "Epoch 137 Loss 1.0000\n",
            "Epoch 138 Loss 1.0000\n",
            "Epoch 139 Loss 1.0000\n",
            "Epoch 140 Loss 1.0000\n",
            "Epoch 141 Loss 1.0000\n",
            "Epoch 142 Loss 1.0000\n",
            "Epoch 143 Loss 1.0000\n",
            "Epoch 144 Loss 1.0000\n",
            "Epoch 145 Loss 1.0000\n",
            "Epoch 146 Loss 1.0000\n",
            "Epoch 147 Loss 1.0000\n",
            "Epoch 148 Loss 1.0000\n",
            "Epoch 149 Loss 1.0000\n",
            "Epoch 150 Loss 1.0000\n",
            "Epoch 151 Loss 1.0000\n",
            "Epoch 152 Loss 1.0000\n",
            "Epoch 153 Loss 1.0000\n",
            "Epoch 154 Loss 1.0000\n",
            "Epoch 155 Loss 1.0000\n",
            "Epoch 156 Loss 1.0000\n",
            "Epoch 157 Loss 1.0000\n",
            "Epoch 158 Loss 1.0000\n",
            "Epoch 159 Loss 1.0000\n",
            "Epoch 160 Loss 1.0000\n",
            "Epoch 161 Loss 1.0000\n",
            "Epoch 162 Loss 1.0000\n",
            "Epoch 163 Loss 1.0000\n",
            "Epoch 164 Loss 1.0000\n",
            "Epoch 165 Loss 1.0000\n",
            "Epoch 166 Loss 1.0000\n",
            "Epoch 167 Loss 1.0000\n",
            "Epoch 168 Loss 1.0000\n",
            "Epoch 169 Loss 1.0000\n",
            "Epoch 170 Loss 1.0000\n",
            "Epoch 171 Loss 1.0000\n",
            "Epoch 172 Loss 1.0000\n",
            "Epoch 173 Loss 1.0000\n",
            "Epoch 174 Loss 1.0000\n",
            "Epoch 175 Loss 1.0000\n",
            "Epoch 176 Loss 1.0000\n",
            "Epoch 177 Loss 1.0000\n",
            "Epoch 178 Loss 1.0000\n",
            "Epoch 179 Loss 1.0000\n",
            "Epoch 180 Loss 1.0000\n",
            "Epoch 181 Loss 1.0000\n",
            "Epoch 182 Loss 1.0000\n",
            "Epoch 183 Loss 1.0000\n",
            "Epoch 184 Loss 1.0000\n",
            "Epoch 185 Loss 1.0000\n",
            "Epoch 186 Loss 1.0000\n",
            "Epoch 187 Loss 1.0000\n",
            "Epoch 188 Loss 1.0000\n",
            "Epoch 189 Loss 1.0000\n",
            "Epoch 190 Loss 1.0000\n",
            "Epoch 191 Loss 1.0000\n",
            "Epoch 192 Loss 1.0000\n",
            "Epoch 193 Loss 1.0000\n",
            "Epoch 194 Loss 1.0000\n",
            "Epoch 195 Loss 1.0000\n",
            "Epoch 196 Loss 1.0000\n",
            "Epoch 197 Loss 1.0000\n",
            "Epoch 198 Loss 1.0000\n",
            "Epoch 199 Loss 1.0000\n",
            "Epoch 200 Loss 1.0000\n",
            "Epoch 201 Loss 1.0000\n",
            "Epoch 202 Loss 1.0000\n",
            "Epoch 203 Loss 1.0000\n",
            "Epoch 204 Loss 1.0000\n",
            "Epoch 205 Loss 1.0000\n",
            "Epoch 206 Loss 1.0000\n",
            "Epoch 207 Loss 1.0000\n",
            "Epoch 208 Loss 1.0000\n",
            "Epoch 209 Loss 1.0000\n",
            "Epoch 210 Loss 1.0000\n",
            "Epoch 211 Loss 1.0000\n",
            "Epoch 212 Loss 1.0000\n",
            "Epoch 213 Loss 1.0000\n",
            "Epoch 214 Loss 1.0000\n",
            "Epoch 215 Loss 1.0000\n",
            "Epoch 216 Loss 1.0000\n",
            "Epoch 217 Loss 1.0000\n",
            "Epoch 218 Loss 1.0000\n",
            "Epoch 219 Loss 1.0000\n",
            "Epoch 220 Loss 1.0000\n",
            "Epoch 221 Loss 1.0000\n",
            "Epoch 222 Loss 1.0000\n",
            "Epoch 223 Loss 1.0000\n",
            "Epoch 224 Loss 1.0000\n",
            "Epoch 225 Loss 1.0000\n",
            "Epoch 226 Loss 1.0000\n",
            "Epoch 227 Loss 1.0000\n",
            "Epoch 228 Loss 1.0000\n",
            "Epoch 229 Loss 1.0000\n",
            "Epoch 230 Loss 1.0000\n",
            "Epoch 231 Loss 1.0000\n",
            "Epoch 232 Loss 1.0000\n",
            "Epoch 233 Loss 1.0000\n",
            "Epoch 234 Loss 1.0000\n",
            "Epoch 235 Loss 1.0000\n",
            "Epoch 236 Loss 1.0000\n",
            "Epoch 237 Loss 1.0000\n",
            "Epoch 238 Loss 1.0000\n",
            "Epoch 239 Loss 1.0000\n",
            "Epoch 240 Loss 1.0000\n",
            "Epoch 241 Loss 1.0000\n",
            "Epoch 242 Loss 1.0000\n",
            "Epoch 243 Loss 1.0000\n",
            "Epoch 244 Loss 1.0000\n",
            "Epoch 245 Loss 1.0000\n",
            "Epoch 246 Loss 1.0000\n",
            "Epoch 247 Loss 1.0000\n",
            "Epoch 248 Loss 1.0000\n",
            "Epoch 249 Loss 1.0000\n",
            "Epoch 250 Loss 1.0000\n",
            "Epoch 251 Loss 1.0000\n",
            "Epoch 252 Loss 1.0000\n",
            "Epoch 253 Loss 1.0000\n",
            "Epoch 254 Loss 1.0000\n",
            "Epoch 255 Loss 1.0000\n",
            "Epoch 256 Loss 1.0000\n",
            "Epoch 257 Loss 1.0000\n",
            "Epoch 258 Loss 1.0000\n",
            "Epoch 259 Loss 1.0000\n",
            "Epoch 260 Loss 1.0000\n",
            "Epoch 261 Loss 1.0000\n",
            "Epoch 262 Loss 1.0000\n",
            "Epoch 263 Loss 1.0000\n",
            "Epoch 264 Loss 1.0000\n",
            "Epoch 265 Loss 1.0000\n",
            "Epoch 266 Loss 1.0000\n",
            "Epoch 267 Loss 1.0000\n",
            "Epoch 268 Loss 1.0000\n",
            "Epoch 269 Loss 1.0000\n",
            "Epoch 270 Loss 1.0000\n",
            "Epoch 271 Loss 1.0000\n",
            "Epoch 272 Loss 1.0000\n",
            "Epoch 273 Loss 1.0000\n",
            "Epoch 274 Loss 1.0000\n",
            "Epoch 275 Loss 1.0000\n",
            "Epoch 276 Loss 1.0000\n",
            "Epoch 277 Loss 1.0000\n",
            "Epoch 278 Loss 1.0000\n",
            "Epoch 279 Loss 1.0000\n",
            "Epoch 280 Loss 1.0000\n",
            "Epoch 281 Loss 1.0000\n",
            "Epoch 282 Loss 1.0000\n",
            "Epoch 283 Loss 1.0000\n",
            "Epoch 284 Loss 1.0000\n",
            "Epoch 285 Loss 1.0000\n",
            "Epoch 286 Loss 1.0000\n",
            "Epoch 287 Loss 1.0000\n",
            "Epoch 288 Loss 1.0000\n",
            "Epoch 289 Loss 1.0000\n",
            "Epoch 290 Loss 1.0000\n",
            "Epoch 291 Loss 1.0000\n",
            "Epoch 292 Loss 1.0000\n",
            "Epoch 293 Loss 1.0000\n",
            "Epoch 294 Loss 1.0000\n",
            "Epoch 295 Loss 1.0000\n",
            "Epoch 296 Loss 1.0000\n",
            "Epoch 297 Loss 1.0000\n",
            "Epoch 298 Loss 1.0000\n",
            "Epoch 299 Loss 1.0000\n"
          ]
        }
      ]
    },
    {
      "cell_type": "code",
      "source": [
        "ypred=model.predict(X)"
      ],
      "metadata": {
        "id": "26QJFpns_x_o"
      },
      "execution_count": 15,
      "outputs": []
    },
    {
      "cell_type": "code",
      "source": [
        "np.mean(ypred==y)"
      ],
      "metadata": {
        "id": "qNTAImuL_x4g",
        "colab": {
          "base_uri": "https://localhost:8080/"
        },
        "outputId": "f0c0ea13-6c30-4702-bcb4-4d841739a154"
      },
      "execution_count": 16,
      "outputs": [
        {
          "output_type": "execute_result",
          "data": {
            "text/plain": [
              "0.447968836950473"
            ]
          },
          "metadata": {},
          "execution_count": 16
        }
      ]
    },
    {
      "cell_type": "code",
      "source": [
        "plt.imshow(X[20].reshape(8,8))"
      ],
      "metadata": {
        "colab": {
          "base_uri": "https://localhost:8080/",
          "height": 282
        },
        "id": "F9-bcu8aNJl7",
        "outputId": "9df20a46-eef2-49f8-e009-d4c5223d22b7"
      },
      "execution_count": 17,
      "outputs": [
        {
          "output_type": "execute_result",
          "data": {
            "text/plain": [
              "<matplotlib.image.AxesImage at 0x7f249d5a9f50>"
            ]
          },
          "metadata": {},
          "execution_count": 17
        },
        {
          "output_type": "display_data",
          "data": {
            "text/plain": [
              "<Figure size 432x288 with 1 Axes>"
            ],
            "image/png": "[encoded data removed]"
          },
          "metadata": {
            "needs_background": "light"
          }
        }
      ]
    },
    {
      "cell_type": "code",
      "source": [
        "ypred[20]"
      ],
      "metadata": {
        "id": "g5tlvYZ_A_m2",
        "colab": {
          "base_uri": "https://localhost:8080/"
        },
        "outputId": "6a751fe8-15ae-4a36-e41a-c9e7267cd99f"
      },
      "execution_count": 18,
      "outputs": [
        {
          "output_type": "execute_result",
          "data": {
            "text/plain": [
              "0"
            ]
          },
          "metadata": {},
          "execution_count": 18
        }
      ]
    },
    {
      "cell_type": "code",
      "source": [
        "y[20]"
      ],
      "metadata": {
        "colab": {
          "base_uri": "https://localhost:8080/"
        },
        "id": "rJUX6XNoNTBp",
        "outputId": "4274101e-c38a-419a-b92f-031ce7b2f318"
      },
      "execution_count": 19,
      "outputs": [
        {
          "output_type": "execute_result",
          "data": {
            "text/plain": [
              "0"
            ]
          },
          "metadata": {},
          "execution_count": 19
        }
      ]
    }
  ]
}